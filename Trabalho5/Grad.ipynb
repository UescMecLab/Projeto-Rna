{
 "cells": [
  {
   "cell_type": "code",
   "execution_count": 31,
   "metadata": {},
   "outputs": [],
   "source": [
    "import sympy as sp\n",
    "import numpy as np\n",
    "\n",
    "def v(p):\n",
    "    x1, x2 = sp.symbols('x1 x2')\n",
    "    return p[0] + p[1] * x1 + p[2] * x2\n",
    "\n",
    "def phi(p):\n",
    "    return sp.tanh(v(p))\n",
    "\n",
    "def funcao(p):\n",
    "    Yreal, n = sp.symbols('Yreal n')\n",
    "    return (((Yreal - phi(p)) ** 2) / n)"
   ]
  },
  {
   "cell_type": "code",
   "execution_count": 34,
   "metadata": {},
   "outputs": [],
   "source": [
    "def Gradient(funcao, p):\n",
    "    grad = []\n",
    "    for j in range(len(p)):\n",
    "        diff = sp.diff(funcao(p), p[j])\n",
    "        grad.append(diff)\n",
    "    return grad\n",
    "\n",
    "def Hessian(funcao, p):\n",
    "    hessian = []\n",
    "    for i in range(len(p)):\n",
    "        line = []\n",
    "        for j in range(len(p)):\n",
    "            Jx = Gradient(funcao, p)[j]\n",
    "            Jxx = sp.diff(Jx, p[i])\n",
    "            line.append(Jxx)\n",
    "        hessian.append(line)\n",
    "    return hessian"
   ]
  },
  {
   "cell_type": "code",
   "execution_count": 37,
   "metadata": {},
   "outputs": [
    {
     "name": "stdout",
     "output_type": "stream",
     "text": [
      "Hessian Matrix:\n",
      "[2*(2 - 2*tanh(p0 + p1*x1 + p2*x2)**2)*(Yreal - tanh(p0 + p1*x1 + p2*x2))*tanh(p0 + p1*x1 + p2*x2)/n + (tanh(p0 + p1*x1 + p2*x2)**2 - 1)*(2*tanh(p0 + p1*x1 + p2*x2)**2 - 2)/n, -2*x1*(1 - tanh(p0 + p1*x1 + p2*x2)**2)*(tanh(p0 + p1*x1 + p2*x2)**2 - 1)/n + 2*x1*(2 - 2*tanh(p0 + p1*x1 + p2*x2)**2)*(Yreal - tanh(p0 + p1*x1 + p2*x2))*tanh(p0 + p1*x1 + p2*x2)/n, -2*x2*(1 - tanh(p0 + p1*x1 + p2*x2)**2)*(tanh(p0 + p1*x1 + p2*x2)**2 - 1)/n + 2*x2*(2 - 2*tanh(p0 + p1*x1 + p2*x2)**2)*(Yreal - tanh(p0 + p1*x1 + p2*x2))*tanh(p0 + p1*x1 + p2*x2)/n]\n",
      "[4*x1*(1 - tanh(p0 + p1*x1 + p2*x2)**2)*(Yreal - tanh(p0 + p1*x1 + p2*x2))*tanh(p0 + p1*x1 + p2*x2)/n - x1*(1 - tanh(p0 + p1*x1 + p2*x2)**2)*(2*tanh(p0 + p1*x1 + p2*x2)**2 - 2)/n, 2*x1**2*(1 - tanh(p0 + p1*x1 + p2*x2)**2)**2/n + 4*x1**2*(1 - tanh(p0 + p1*x1 + p2*x2)**2)*(Yreal - tanh(p0 + p1*x1 + p2*x2))*tanh(p0 + p1*x1 + p2*x2)/n, 2*x1*x2*(1 - tanh(p0 + p1*x1 + p2*x2)**2)**2/n + 4*x1*x2*(1 - tanh(p0 + p1*x1 + p2*x2)**2)*(Yreal - tanh(p0 + p1*x1 + p2*x2))*tanh(p0 + p1*x1 + p2*x2)/n]\n",
      "[4*x2*(1 - tanh(p0 + p1*x1 + p2*x2)**2)*(Yreal - tanh(p0 + p1*x1 + p2*x2))*tanh(p0 + p1*x1 + p2*x2)/n - x2*(1 - tanh(p0 + p1*x1 + p2*x2)**2)*(2*tanh(p0 + p1*x1 + p2*x2)**2 - 2)/n, 2*x1*x2*(1 - tanh(p0 + p1*x1 + p2*x2)**2)**2/n + 4*x1*x2*(1 - tanh(p0 + p1*x1 + p2*x2)**2)*(Yreal - tanh(p0 + p1*x1 + p2*x2))*tanh(p0 + p1*x1 + p2*x2)/n, 2*x2**2*(1 - tanh(p0 + p1*x1 + p2*x2)**2)**2/n + 4*x2**2*(1 - tanh(p0 + p1*x1 + p2*x2)**2)*(Yreal - tanh(p0 + p1*x1 + p2*x2))*tanh(p0 + p1*x1 + p2*x2)/n]\n",
      "None\n"
     ]
    }
   ],
   "source": [
    "def GetSymbolicHessian(p_dim):\n",
    "    p = []\n",
    "    for i in range(p_dim):\n",
    "        p.append(sp.symbols('p' + str(i)))\n",
    "    \n",
    "    hessian = Hessian(funcao, p)    \n",
    "    return hessian\n",
    "\n",
    "def GetNumericHessian(p, x, Yreal, n):\n",
    "    hessian_matrix = GetSymbolicHessian(len(p))\n",
    "    print(\"Hessian Matrix:\")\n",
    "    for row in hessian_matrix:\n",
    "        print(row)\n",
    "\n",
    "def Test():\n",
    "    p = [1, 1, 1]\n",
    "    x = [[1, 2, 3],\n",
    "         [4, 5, 6]]\n",
    "    Yreal = [1, 2, 3]\n",
    "    NumericHessian = GetNumericHessian(p, x, Yreal, len(x[0]))\n",
    "    print (NumericHessian)\n",
    "\n",
    "    \n",
    "Test()"
   ]
  }
 ],
 "metadata": {
  "kernelspec": {
   "display_name": "Python 3",
   "language": "python",
   "name": "python3"
  },
  "language_info": {
   "codemirror_mode": {
    "name": "ipython",
    "version": 3
   },
   "file_extension": ".py",
   "mimetype": "text/x-python",
   "name": "python",
   "nbconvert_exporter": "python",
   "pygments_lexer": "ipython3",
   "version": "3.10.6"
  },
  "orig_nbformat": 4
 },
 "nbformat": 4,
 "nbformat_minor": 2
}
